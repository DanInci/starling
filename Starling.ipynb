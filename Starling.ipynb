{
 "cells": [
  {
   "cell_type": "markdown",
   "id": "b3e79fa9",
   "metadata": {},
   "source": [
    "# Getting started with Starling (ST)\n"
   ]
  },
  {
   "cell_type": "code",
   "execution_count": null,
   "id": "2a06e71b",
   "metadata": {},
   "outputs": [],
   "source": [
    "import os\n",
    "import json\n",
    "import argparse\n",
    "\n",
    "import anndata as ad\n",
    "import pandas as pd\n",
    "import numpy as np\n",
    "import scanpy as sc\n",
    "\n",
    "import pytorch_lightning as pl\n",
    "from lightning_lite import seed_everything\n",
    "from pytorch_lightning.callbacks import EarlyStopping\n",
    "from pytorch_lightning.loggers import TensorBoardLogger\n",
    "from sklearn.metrics import adjusted_rand_score\n",
    "from sklearn.preprocessing import MinMaxScaler\n",
    "\n",
    "from starling import starling, utility, label_mapper"
   ]
  },
  {
   "cell_type": "code",
   "execution_count": null,
   "id": "6a479d4e",
   "metadata": {},
   "outputs": [],
   "source": [
    "INTEGRATION_METHOD = 'exprs'\n",
    "DATASET = 'IMMUcan_2022_CancerExample'\n",
    "\n",
    "UNLABELED_CELL_TYPES = ['unlabeled', 'undefined', 'unknown', 'BnTcell', \"BnT cell\"]\n",
    "COLUMNS_OF_INTEREST = ['sample_id', 'object_id', 'cell_type', 'init_label', 'st_label', 'doublet', 'doublet_prob', 'max_assign_prob', 'st_prob_list']\n",
    "\n",
    "EXPERIMENT_DIR = f\"/home/dani/Documents/Thesis/Methods/IMCBenchmark/output/{DATASET}/starling/{INTEGRATION_METHOD}\"\n",
    "CONFIG_PATH = os.path.join(EXPERIMENT_DIR, 'config.json')\n",
    "\n",
    "# load the params\n",
    "with open(CONFIG_PATH) as f:\n",
    "    config = json.load(f)"
   ]
  },
  {
   "cell_type": "code",
   "execution_count": null,
   "id": "5b603540",
   "metadata": {},
   "outputs": [],
   "source": [
    "parser = argparse.ArgumentParser(description='starling')\n",
    "\n",
    "args = parser.parse_args(args=[])\n",
    "args.dataset = config['dataset']\n",
    "args.init_clustering_method = config['init_clustering_method']\n",
    "args.error_free_cells_prop = config['error_free_cells_prop']\n",
    "args.epochs = config['epochs']\n",
    "args.lr = config['lr']\n",
    "args.num_classes = config['num_classes']\n",
    "args.seed = config['seed']"
   ]
  },
  {
   "cell_type": "code",
   "execution_count": null,
   "id": "a937251e",
   "metadata": {},
   "outputs": [],
   "source": [
    "args"
   ]
  },
  {
   "cell_type": "markdown",
   "id": "b615eb39",
   "metadata": {},
   "source": [
    "## Setting seed for everything\n"
   ]
  },
  {
   "cell_type": "code",
   "execution_count": null,
   "id": "e83f4cce",
   "metadata": {},
   "outputs": [],
   "source": [
    "seed_everything(args.seed, workers=True)"
   ]
  },
  {
   "cell_type": "markdown",
   "id": "d1f5142d",
   "metadata": {},
   "source": [
    "## Load data\n"
   ]
  },
  {
   "cell_type": "code",
   "execution_count": null,
   "id": "8c4a203f",
   "metadata": {},
   "outputs": [],
   "source": [
    "adata = ad.read_h5ad(args.dataset)\n",
    "\n",
    "adata.obs"
   ]
  },
  {
   "cell_type": "markdown",
   "id": "5b2385d5",
   "metadata": {},
   "source": [
    "### Scale expression data"
   ]
  },
  {
   "cell_type": "code",
   "execution_count": null,
   "id": "26fad7c3",
   "metadata": {},
   "outputs": [],
   "source": [
    "scaler = MinMaxScaler(feature_range=(0, 1))\n",
    "X_scaled_df = scaler.fit_transform(adata.X)\n",
    "adata.X = X_scaled_df"
   ]
  },
  {
   "cell_type": "markdown",
   "id": "929ad847",
   "metadata": {},
   "source": [
    "### Annotate initial clustering with KM clustering results"
   ]
  },
  {
   "cell_type": "code",
   "execution_count": null,
   "id": "de61686f",
   "metadata": {},
   "outputs": [],
   "source": [
    "print(f'Initial cluster annotation using `{args.init_clustering_method}` algorithm.')\n",
    "labels = np.array(adata.obs.get('user_init_label'))\n",
    "num_classes = len(np.unique(labels))\n",
    "adata = utility.init_clustering(args.init_clustering_method, adata, \n",
    "                                k=num_classes, \n",
    "                                labels=labels)\n",
    "\n",
    "assert \"init_exp_centroids\" in adata.varm\n",
    "assert adata.varm[\"init_exp_centroids\"].shape == (adata.X.shape[1], num_classes)\n",
    "\n",
    "assert \"init_exp_centroids\" in adata.varm\n",
    "assert adata.varm[\"init_exp_variances\"].shape == (adata.X.shape[1], num_classes)\n",
    "\n",
    "assert \"init_label\" in adata.obs\n",
    "assert adata.obs[\"init_label\"].shape == (adata.X.shape[0],)\n",
    "\n",
    "labeled_obs = adata.obs[~adata.obs['cell_type'].isin(UNLABELED_CELL_TYPES)]\n",
    "print(\"Init ARI:\", adjusted_rand_score(labeled_obs['cell_type'], labeled_obs['init_label']))"
   ]
  },
  {
   "cell_type": "markdown",
   "id": "7fd11c15",
   "metadata": {},
   "source": [
    "## Setting initializations\n"
   ]
  },
  {
   "cell_type": "code",
   "execution_count": null,
   "id": "eff9a063",
   "metadata": {},
   "outputs": [],
   "source": [
    "st = starling.ST(adata, learning_rate=args.lr, singlet_prop=args.error_free_cells_prop)\n"
   ]
  },
  {
   "cell_type": "markdown",
   "id": "923d2e71",
   "metadata": {},
   "source": [
    "A list of parameters are shown:\n",
    "\n",
    "- adata: annDATA object of the sample\n",
    "- dist_option (default: 'T'): T for Student-T (df=2) and N for Normal (Gaussian)\n",
    "- the proportion of anticipated segmentation error free cells (default: 0.6)\n",
    "- model_cell_size (default: 'Y'): Y for incoporating cell size in the model and N otherwise\n",
    "- cell_size_col_name (default: 'area'): area is the column name in anndata.obs dataframe\n",
    "- model_zplane_overlap (default: 'Y'): Y for modeling z-plane overlap when cell size is modelled and N otherwise\n",
    "  Note: if the user sets model_cell_size = 'N', then model_zplane_overlap is ignored\n",
    "- model_regularizer (default: 1): Regularizier term impose on synthetic doublet loss (BCE)\n",
    "- learning_rate (default: 1e-3): The learning rate of ADAM optimizer for STARLING\n",
    "\n",
    "Equivalent as the above example:\n",
    "st = starling.ST(adata, 'T', 'Y', 'area', 'Y', 1, 1e-3)\n"
   ]
  },
  {
   "cell_type": "markdown",
   "id": "63939215",
   "metadata": {},
   "source": [
    "## Setting trainning log\n"
   ]
  },
  {
   "cell_type": "markdown",
   "id": "d721258f",
   "metadata": {},
   "source": [
    "Once training starts, a new directory 'log' will created.\n"
   ]
  },
  {
   "cell_type": "code",
   "execution_count": null,
   "id": "a217070c",
   "metadata": {},
   "outputs": [],
   "source": [
    "## log training results via tensorboard\n",
    "log_tb = TensorBoardLogger(save_dir=\"log\")\n"
   ]
  },
  {
   "cell_type": "markdown",
   "id": "ae8e46ea",
   "metadata": {},
   "source": [
    "One could view the training information via tensorboard. Please refer to torch lightning (https://lightning.ai/docs/pytorch/stable/api_references.html#profiler) for other possible loggers.\n"
   ]
  },
  {
   "cell_type": "markdown",
   "id": "914bcd5c",
   "metadata": {},
   "source": [
    "## Setting early stopping criterion\n"
   ]
  },
  {
   "cell_type": "code",
   "execution_count": null,
   "id": "90877a9c",
   "metadata": {},
   "outputs": [],
   "source": [
    "## set early stopping criterion\n",
    "cb_early_stopping = EarlyStopping(monitor=\"train_loss\", mode=\"min\", verbose=False)\n"
   ]
  },
  {
   "cell_type": "markdown",
   "id": "ac4c7459",
   "metadata": {},
   "source": [
    "Training loss is monitored.\n"
   ]
  },
  {
   "cell_type": "markdown",
   "id": "bb32a46b",
   "metadata": {},
   "source": [
    "## Training Starling\n"
   ]
  },
  {
   "cell_type": "code",
   "execution_count": null,
   "id": "8f49c63c",
   "metadata": {
    "tags": [
     "hide-output"
    ]
   },
   "outputs": [],
   "source": [
    "## train ST\n",
    "trainer = pl.Trainer(\n",
    "    max_epochs=args.max_epochs,\n",
    "    accelerator=\"auto\",\n",
    "    devices=\"auto\",\n",
    "    deterministic=True,\n",
    "    callbacks=[cb_early_stopping],\n",
    "    logger=[log_tb],\n",
    ")\n",
    "trainer.fit(st)\n"
   ]
  },
  {
   "cell_type": "markdown",
   "id": "3ba887b2",
   "metadata": {},
   "source": [
    "## Appending STARLING results to annData object\n"
   ]
  },
  {
   "cell_type": "code",
   "execution_count": null,
   "id": "3082c69a",
   "metadata": {
    "scrolled": true
   },
   "outputs": [],
   "source": [
    "## retrive starling results\n",
    "st.result()\n"
   ]
  },
  {
   "cell_type": "markdown",
   "id": "a705d895",
   "metadata": {},
   "source": [
    "## The following information can be retrived from annData object:\n",
    "\n",
    "- st.adata.varm['init_exp_centroids'] -- initial expression cluster centroids (P x C matrix)\n",
    "- st.adata.varm['st_exp_centroids'] -- ST expression cluster centroids (P x C matrix)\n",
    "- st.adata.uns['init_cell_size_centroids'] -- initial cell size centroids if STARLING models cell size\n",
    "- st.adata.uns['st_cell_size_centroids'] -- initial & ST cell size centroids if ST models cell size\n",
    "- st.adata.obsm['assignment_prob_matrix'] -- cell assignment probability (N x C maxtrix)\n",
    "- st.adata.obsm['gamma_prob_matrix'] -- gamma probabilitiy of two cells (N x C x C maxtrix)\n",
    "- st.adata.obs['doublet'] -- doublet indicator\n",
    "- st.adata.obs['doublet_prob'] -- doublet probabilities\n",
    "- st.adata.obs['init_label'] -- initial assignments\n",
    "- st.adata.obs['st_label'] -- ST assignments\n",
    "- st.adata.obs['max_assign_prob'] -- ST max probabilites of assignments\n",
    "  - N: # of cells; C: # of clusters; P: # of proteins\n"
   ]
  },
  {
   "cell_type": "markdown",
   "id": "ad7e5fc0",
   "metadata": {},
   "source": [
    "## Showing STARLING results\n"
   ]
  },
  {
   "cell_type": "code",
   "execution_count": null,
   "id": "c7e67d1d",
   "metadata": {
    "tags": [
     "scroll-output"
    ]
   },
   "outputs": [],
   "source": [
    "st.adata.obs\n"
   ]
  },
  {
   "cell_type": "markdown",
   "id": "53e32d26",
   "metadata": {},
   "source": [
    "One could easily perform further analysis such as co-occurance, enrichment analysis and etc.\n"
   ]
  },
  {
   "cell_type": "code",
   "execution_count": null,
   "id": "12f1accf",
   "metadata": {},
   "outputs": [],
   "source": [
    "mapper = label_mapper.AutomatedLabelMapping(st.adata.obs['cell_type'], st.adata.obs['init_label'])\n",
    "\n",
    "# map init label to cell type\n",
    "st.adata.obs['init_label'] = mapper.get_pred_labels(st.adata.obs['init_label'])\n",
    "\n",
    "# map st label to cell type\n",
    "st.adata.obs['st_label'] = mapper.get_pred_labels(st.adata.obs['st_label'])\n",
    "\n",
    "st.labeled_obs = st.adata.obs[~st.adata.obs['cell_type'].isin(UNLABELED_CELL_TYPES)]"
   ]
  },
  {
   "cell_type": "code",
   "execution_count": null,
   "id": "b601be72",
   "metadata": {},
   "outputs": [],
   "source": [
    "st.adata.obs\n"
   ]
  },
  {
   "cell_type": "markdown",
   "id": "af541283",
   "metadata": {},
   "source": [
    "Starling provides doublet probabilities and cell assignment if it were a singlet for each cell.\n"
   ]
  },
  {
   "cell_type": "markdown",
   "id": "80e61208",
   "metadata": {},
   "source": [
    "## Showing initial expression centriods:\n"
   ]
  },
  {
   "cell_type": "code",
   "execution_count": null,
   "id": "a2be0fcc",
   "metadata": {},
   "outputs": [],
   "source": [
    "## initial expression centriods (p x c) matrix\n",
    "pd.DataFrame(st.adata.varm[\"init_exp_centroids\"], index=st.adata.var_names)\n"
   ]
  },
  {
   "cell_type": "markdown",
   "id": "03424211",
   "metadata": {},
   "source": [
    "There are 10 centroids since we set Kmeans (KM) as k = 10 earlier.\n"
   ]
  },
  {
   "cell_type": "markdown",
   "id": "f0bc41a8",
   "metadata": {},
   "source": [
    "## Showing Starling expression centriods:\n"
   ]
  },
  {
   "cell_type": "code",
   "execution_count": null,
   "id": "a11a5334",
   "metadata": {},
   "outputs": [],
   "source": [
    "## starling expression centriods (p x c) matrix\n",
    "pd.DataFrame(st.adata.varm[\"st_exp_centroids\"], index=st.adata.var_names)\n"
   ]
  },
  {
   "cell_type": "markdown",
   "id": "a2cccf9d",
   "metadata": {},
   "source": [
    "From here one could easily annotate cluster centriods to cell type.\n"
   ]
  },
  {
   "cell_type": "markdown",
   "id": "993eb08b",
   "metadata": {},
   "source": [
    "## Showing Assignment Distributions:\n"
   ]
  },
  {
   "cell_type": "code",
   "execution_count": null,
   "id": "75f8b562",
   "metadata": {},
   "outputs": [],
   "source": [
    "## assignment distributions (n x c maxtrix)\n",
    "pd.DataFrame(st.adata.obsm[\"assignment_prob_matrix\"], index=st.adata.obs.index)\n"
   ]
  },
  {
   "cell_type": "markdown",
   "id": "b203933c",
   "metadata": {},
   "source": [
    "Currently, we assign a cell label based on the maximum probability among all possible clusters. However, there could be mislabeled because maximum and second highest probabilies can be very close that the user might be interested.\n"
   ]
  },
  {
   "cell_type": "markdown",
   "id": "381478b6",
   "metadata": {},
   "source": [
    "## Analyzing the results"
   ]
  },
  {
   "cell_type": "code",
   "execution_count": null,
   "id": "aae7df37",
   "metadata": {},
   "outputs": [],
   "source": [
    "prob_matrix = adata.obsm['assignment_prob_matrix']\n",
    "prob_vector = np.array([f\"[{', '.join(map(str, row))}]\" for row in prob_matrix])\n",
    "adata.obs['st_prob_list'] = prob_vector\n",
    "\n",
    "results_df = adata.obs[COLUMNS_OF_INTEREST]\n",
    "results_df = results_df.rename(columns={\n",
    "    'sample_id': 'image_id', \n",
    "    'object_id': 'cell_id',\n",
    "    'cell_type': 'label',\n",
    "    'init_label': 'init_pred',\n",
    "    'st_label': 'st_pred',\n",
    "    'max_assign_prob': 'st_pred_prob'\n",
    "})\n",
    "\n",
    "results_df.to_csv(os.path.join(EXPERIMENT_DIR, 'starling_results.csv'), index=False)\n",
    "\n",
    "results_df"
   ]
  },
  {
   "cell_type": "markdown",
   "id": "ee92a6c0",
   "metadata": {},
   "source": [
    "Calculate ARI score compared to ground truth labels"
   ]
  },
  {
   "cell_type": "code",
   "execution_count": null,
   "id": "62f41a48",
   "metadata": {},
   "outputs": [],
   "source": [
    "labeled_results_df = results_df[~results_df['label'].isin(UNLABELED_CELL_TYPES)]\n",
    "\n",
    "print(\"Init ARI:\", adjusted_rand_score(labeled_results_df['label'], labeled_results_df['init_pred']))\n",
    "print(\"Starling ARI:\", adjusted_rand_score(labeled_results_df['label'], labeled_results_df['st_pred']))"
   ]
  },
  {
   "cell_type": "markdown",
   "id": "e43f0e9f",
   "metadata": {},
   "source": [
    "Let us draw a UMAP plot coloured by cell type. (This may take a while because it has to run UMAP first)."
   ]
  },
  {
   "cell_type": "code",
   "execution_count": null,
   "id": "bd097dcc",
   "metadata": {},
   "outputs": [],
   "source": [
    "sc.pp.neighbors(adata)\n",
    "sc.tl.umap(adata)\n",
    "sc.pl.umap(adata, color = ['cell_type', 'init_label', 'st_label'], size = 14, ncols = 3, wspace = 0.3)"
   ]
  }
 ],
 "metadata": {
  "kernelspec": {
   "display_name": "starling",
   "language": "python",
   "name": "starling"
  },
  "language_info": {
   "codemirror_mode": {
    "name": "ipython",
    "version": 3
   },
   "file_extension": ".py",
   "mimetype": "text/x-python",
   "name": "python",
   "nbconvert_exporter": "python",
   "pygments_lexer": "ipython3",
   "version": "3.10.12"
  }
 },
 "nbformat": 4,
 "nbformat_minor": 5
}
